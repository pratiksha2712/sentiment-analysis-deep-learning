{
 "cells": [
  {
   "cell_type": "code",
   "execution_count": 27,
   "metadata": {
    "colab": {
     "autoexec": {
      "startup": false,
      "wait_interval": 0
     },
     "base_uri": "https://localhost:8080/",
     "height": 104
    },
    "colab_type": "code",
    "collapsed": true,
    "executionInfo": {
     "elapsed": 878,
     "status": "ok",
     "timestamp": 1528556219743,
     "user": {
      "displayName": "Sauradeep Chakraborty",
      "photoUrl": "//lh6.googleusercontent.com/-QvGcv_ohGQE/AAAAAAAAAAI/AAAAAAAADh8/JnoW4qEexCc/s50-c-k-no/photo.jpg",
      "userId": "104205094747188221458"
     },
     "user_tz": -480
    },
    "id": "VVJnbioWUkKR",
    "outputId": "bfd11a10-2724-4aa5-95fb-843909f312e2"
   },
   "outputs": [],
   "source": [
    "import numpy as np \n",
    "import pandas as pd \n",
    "import time\n",
    "from keras.preprocessing.text import Tokenizer\n",
    "from keras.preprocessing.sequence import pad_sequences\n",
    "from keras.models import Sequential\n",
    "from keras.layers import Dense, Embedding, LSTM\n",
    "from sklearn.model_selection import train_test_split\n",
    "from keras.utils.np_utils import to_categorical\n",
    "import re\n",
    "from gensim.models import Doc2Vec, doc2vec\n",
    "from nltk.corpus import stopwords\n",
    "from nltk.stem.porter import *\n",
    "from textblob import TextBlob, Word\n",
    "import tensorflow as tf\n",
    "import matplotlib.pyplot as plt\n",
    "from sklearn.naive_bayes import MultinomialNB\n",
    "from sklearn.feature_extraction.text import CountVectorizer\n",
    "from sklearn import metrics\n",
    "from sklearn.linear_model import LogisticRegression, SGDClassifier"
   ]
  },
  {
   "cell_type": "code",
   "execution_count": 35,
   "metadata": {},
   "outputs": [
    {
     "data": {
      "image/png": "[encoded data removed]",
      "text/plain": [
       "<matplotlib.figure.Figure at 0x25a7882fba8>"
      ]
     },
     "metadata": {},
     "output_type": "display_data"
    }
   ],
   "source": [
    "df = pd.read_csv(\"sampleTrain.csv\", dtype={\"label\": int, \"text\": str})\n",
    "p = df.groupby(\"label\").count()\n",
    "\n",
    "plt.figure(0)\n",
    "plt.bar(p.index, p.text, alpha=0.5)\n",
    "plt.xticks(p.index)\n",
    "plt.show()"
   ]
  },
  {
   "cell_type": "code",
   "execution_count": 37,
   "metadata": {
    "colab": {
     "autoexec": {
      "startup": false,
      "wait_interval": 0
     },
     "base_uri": "https://localhost:8080/",
     "height": 1146
    },
    "colab_type": "code",
    "executionInfo": {
     "elapsed": 107160,
     "status": "ok",
     "timestamp": 1528556333102,
     "user": {
      "displayName": "Sauradeep Chakraborty",
      "photoUrl": "//lh6.googleusercontent.com/-QvGcv_ohGQE/AAAAAAAAAAI/AAAAAAAADh8/JnoW4qEexCc/s50-c-k-no/photo.jpg",
      "userId": "104205094747188221458"
     },
     "user_tz": -480
    },
    "id": "lPdSSHPwUrSn",
    "outputId": "4f0ddb88-f2d9-46e6-8558-cbdec9fb52e6"
   },
   "outputs": [
    {
     "name": "stdout",
     "output_type": "stream",
     "text": [
      "0.027962207794189453\n"
     ]
    },
    {
     "data": {
      "text/html": [
       "<div>\n",
       "<style scoped>\n",
       "    .dataframe tbody tr th:only-of-type {\n",
       "        vertical-align: middle;\n",
       "    }\n",
       "\n",
       "    .dataframe tbody tr th {\n",
       "        vertical-align: top;\n",
       "    }\n",
       "\n",
       "    .dataframe thead th {\n",
       "        text-align: right;\n",
       "    }\n",
       "</style>\n",
       "<table border=\"1\" class=\"dataframe\">\n",
       "  <thead>\n",
       "    <tr style=\"text-align: right;\">\n",
       "      <th></th>\n",
       "      <th>label</th>\n",
       "      <th>text</th>\n",
       "    </tr>\n",
       "  </thead>\n",
       "  <tbody>\n",
       "    <tr>\n",
       "      <th>0</th>\n",
       "      <td>1</td>\n",
       "      <td>[nice, coffe, shop, downtown, montreal, next, ...</td>\n",
       "    </tr>\n",
       "    <tr>\n",
       "      <th>1</th>\n",
       "      <td>2</td>\n",
       "      <td>[play, game, oop, mean, play, game, good, old,...</td>\n",
       "    </tr>\n",
       "    <tr>\n",
       "      <th>2</th>\n",
       "      <td>2</td>\n",
       "      <td>[great, place, gay, watch, total, suburban, va...</td>\n",
       "    </tr>\n",
       "    <tr>\n",
       "      <th>3</th>\n",
       "      <td>2</td>\n",
       "      <td>[omg, ron, wine, guy, darren, chees, guy, supe...</td>\n",
       "    </tr>\n",
       "    <tr>\n",
       "      <th>4</th>\n",
       "      <td>2</td>\n",
       "      <td>[see, lot, neg, review, no, problem, thoroughl...</td>\n",
       "    </tr>\n",
       "    <tr>\n",
       "      <th>5</th>\n",
       "      <td>0</td>\n",
       "      <td>[came, recent, get, alaskan, salt, that, sold,...</td>\n",
       "    </tr>\n",
       "    <tr>\n",
       "      <th>6</th>\n",
       "      <td>2</td>\n",
       "      <td>[servic, outstand, usual, price, still, unbeat...</td>\n",
       "    </tr>\n",
       "    <tr>\n",
       "      <th>7</th>\n",
       "      <td>0</td>\n",
       "      <td>[one, star, lowest, default, otherwis, itd, 0,...</td>\n",
       "    </tr>\n",
       "    <tr>\n",
       "      <th>8</th>\n",
       "      <td>2</td>\n",
       "      <td>[dont, know, ive, ever, felt, way, burger, fac...</td>\n",
       "    </tr>\n",
       "    <tr>\n",
       "      <th>9</th>\n",
       "      <td>2</td>\n",
       "      <td>[food, amaz, servic, outstand, take, sexi, dat...</td>\n",
       "    </tr>\n",
       "  </tbody>\n",
       "</table>\n",
       "</div>"
      ],
      "text/plain": [
       "   label                                               text\n",
       "0      1  [nice, coffe, shop, downtown, montreal, next, ...\n",
       "1      2  [play, game, oop, mean, play, game, good, old,...\n",
       "2      2  [great, place, gay, watch, total, suburban, va...\n",
       "3      2  [omg, ron, wine, guy, darren, chees, guy, supe...\n",
       "4      2  [see, lot, neg, review, no, problem, thoroughl...\n",
       "5      0  [came, recent, get, alaskan, salt, that, sold,...\n",
       "6      2  [servic, outstand, usual, price, still, unbeat...\n",
       "7      0  [one, star, lowest, default, otherwis, itd, 0,...\n",
       "8      2  [dont, know, ive, ever, felt, way, burger, fac...\n",
       "9      2  [food, amaz, servic, outstand, take, sexi, dat..."
      ]
     },
     "execution_count": 37,
     "metadata": {},
     "output_type": "execute_result"
    }
   ],
   "source": [
    "y = df.label\n",
    "text = df.text\n",
    "\n",
    "tick = time.time()\n",
    "#Convert all text to lower case\n",
    "text = text.apply(lambda x: \" \".join(x.lower() for x in str(x).split()))\n",
    "\n",
    "#Remove all punctuation\n",
    "for i in range(0, len(text)):\n",
    "    text[i] = re.sub(r'[^\\w\\s]', \"\", text[i])\n",
    "\n",
    "#Remove stop words (removes important words! needs modification)\n",
    "stop = stopwords.words(\"english\")\n",
    "stop = stop[:143]\n",
    "stop.remove(\"not\")\n",
    "stop.remove(\"against\")\n",
    "stop.remove(\"no\")\n",
    "text = text.apply(lambda x: \" \".join(x for x in str(x).split() if x not in stop))\n",
    "\n",
    "#Stemming\n",
    "stemmer = PorterStemmer()\n",
    "text = text.apply(lambda x: \" \".join(stemmer.stem(x) for x in str(x).split()))\n",
    "\n",
    "#seperating words into lists\n",
    "for i, line in enumerate(text):\n",
    "  text[i] = line.split()\n",
    "\n",
    "df.text = text\n",
    "text = list(text)\n",
    "print(time.time() - tick)\n",
    "df\n",
    "#df.to_csv(\"out.csv\", sep=\",\")"
   ]
  },
  {
   "cell_type": "code",
   "execution_count": 38,
   "metadata": {
    "collapsed": true
   },
   "outputs": [],
   "source": [
    "df = pd.read_csv(\"out-stem.csv\", dtype={\"label\": int, \"text\": str})"
   ]
  },
  {
   "cell_type": "code",
   "execution_count": 39,
   "metadata": {
    "colab": {
     "autoexec": {
      "startup": false,
      "wait_interval": 0
     },
     "base_uri": "https://localhost:8080/",
     "height": 1094
    },
    "colab_type": "code",
    "executionInfo": {
     "elapsed": 744,
     "status": "ok",
     "timestamp": 1528556444709,
     "user": {
      "displayName": "Sauradeep Chakraborty",
      "photoUrl": "//lh6.googleusercontent.com/-QvGcv_ohGQE/AAAAAAAAAAI/AAAAAAAADh8/JnoW4qEexCc/s50-c-k-no/photo.jpg",
      "userId": "104205094747188221458"
     },
     "user_tz": -480
    },
    "id": "YlLdyXcOU5LO",
    "outputId": "9293eab7-24da-4723-db1e-602cfb901128"
   },
   "outputs": [
    {
     "data": {
      "text/plain": [
       "0         ['great', 'mobil', 'app', 'nice', 'reward', 'p...\n",
       "1         ['realli', 'fast', 'polit', 'definit', 'recomm...\n",
       "2         ['place', 'alway', 'amaz', 'friendli', 'staff'...\n",
       "3         ['wine', '101', 'class', 'friday', 'night', 'c...\n",
       "4         ['round', 'think', 'place', 'may', 'potenti', ...\n",
       "5         ['romant', 'tryst', 'planet', 'hollywood', 'po...\n",
       "6         ['got', 'color', 'haircut', 'final', 'month', ...\n",
       "7         ['never', 'go', 'place', 'nearli', 'empti', '4...\n",
       "8         ['ive', 'come', '2', 'year', 'np', 'bought', '...\n",
       "9         ['07082014', 'war', 'ich', 'mit', '5', 'kolleg...\n",
       "10        ['5', 'star', 'takeout', 'not', 'recommend', '...\n",
       "11        ['nachdem', 'wir', 'jetzt', 'da', 'dritt', 'ma...\n",
       "12        ['hand', 'best', 'polish', 'boy', 'sandwich', ...\n",
       "13        ['oh', 'fuzzi', 'begin', 'familiar', 'tobi', '...\n",
       "14        ['ive', 'tri', 'mani', 'cupcak', 'magnolia', '...\n",
       "15        ['put', 'irish', 'pub', 'walmart', 'youd', 'ge...\n",
       "16        ['amaz', 'pho', 'almost', 'drink', 'broth', 's...\n",
       "17        ['la', 'eiffel', 'tower', 'en', 'la', 'vegaspo...\n",
       "18        ['love', 'shop', 'best', 'retro', 'dress', 've...\n",
       "19        ['definit', 'sexi', 'show', 'surprisingli', 'f...\n",
       "20        ['someth', 'must', 'gone', 'horribl', 'wrong',...\n",
       "21        ['happi', 'find', 'silk', 'found', 'nicol', 'p...\n",
       "22        ['good', 'get', 'qdoba', 'serious', 'qdoba', '...\n",
       "23        ['anoth', 'one', 'favorit', 'spot', 'place', '...\n",
       "24        ['count', 'charleston', 'topnotch', 'food', 's...\n",
       "25        ['amaz', 'place', 'went', 'massag', 'relax', '...\n",
       "26        ['man', 'oh', 'man', 'place', 'fuck', 'bomb', ...\n",
       "27        ['great', 'food', 'big', 'portion', 'excel', '...\n",
       "28        ['son', 'iphon', '6', 'screen', 'bust', 'fix',...\n",
       "29        ['ye', 'space', 'cozi', 'comfi', 'food', 'le',...\n",
       "                                ...                        \n",
       "399971    ['came', '12pm', 'tuesday', 'theyr', 'suppos',...\n",
       "399972    ['pizza', 'place', 'delici', 'daughter', 'love...\n",
       "399973    ['love', 'place', 'wait', 'row', 'half', 'hour...\n",
       "399974    ['walk', 'place', '5', 'day', 'week', 'sinc', ...\n",
       "399975    ['dont', 'usual', 'write', '1', 'star', 'moira...\n",
       "399976    ['mediocr', 'food', 'overpr', 'buffet', 'come'...\n",
       "399977    ['food', 'fantast', 'though', 'pricier', 'side...\n",
       "399978    ['servic', 'ok', 'c', '25', 'food', 'quick', '...\n",
       "399979    ['la', 'vega', 'past', 'weekend', 'attend', 'm...\n",
       "399980    ['whatev', 'need', 'done', 'subaru', 'guy', 'r...\n",
       "399981    ['fantast', 'experi', 'room', 'inde', 'whole',...\n",
       "399982    ['well', 'first', 'offici', 'verizon', 'wirele...\n",
       "399983    ['got', 'vanilla', 'spice', 'oatmeal', '8', 'l...\n",
       "399984    ['place', 'delight', 'food', 'eleg', 'tast', '...\n",
       "399985    ['stay', 'sever', 'time', 'manag', 'staff', 'p...\n",
       "399986    ['great', 'chines', 'food', 'great', 'place', ...\n",
       "399987    ['never', '188', 'forev', 'continu', 'come', '...\n",
       "399988    ['perfectli', 'adequ', 'gyro', 'place', 'small...\n",
       "399989    ['ive', 'use', 'mbv', 'least', 'nine', 'year',...\n",
       "399990    ['dont', 'bother', 'come', 'back', 'hadnt', '1...\n",
       "399991    ['couldnt', 'happier', '5th', 'wine', 'first',...\n",
       "399992    ['kasade', 'fantast', 'hair', 'stylist', 'best...\n",
       "399993    ['decid', 'grab', 'food', 'fish', 'chip', 'tho...\n",
       "399994    ['hot', 'dog', '1218', 'inch', 'great', 'froze...\n",
       "399995    ['never', 'use', 'move', 'compani', 'prior', '...\n",
       "399996    ['went', 'first', 'time', 'got', 'kelsey', 'dy...\n",
       "399997    ['first', 'experi', 'true', 'food', 'kitchen',...\n",
       "399998    ['must', 'one', 'talkedabout', 'secondhand', '...\n",
       "399999    ['undeni', 'best', 'bang', 'buck', 'citi', '10...\n",
       "400000    ['dont', 'order', 'hamburg', 'order', 'well', ...\n",
       "Name: text, Length: 400001, dtype: object"
      ]
     },
     "execution_count": 39,
     "metadata": {},
     "output_type": "execute_result"
    }
   ],
   "source": [
    "X = df.text\n",
    "Y = df.label\n",
    "X"
   ]
  },
  {
   "cell_type": "code",
   "execution_count": 40,
   "metadata": {
    "collapsed": true
   },
   "outputs": [],
   "source": [
    "vectorizer = CountVectorizer().fit(X)\n",
    "X = vectorizer.transform(X)"
   ]
  },
  {
   "cell_type": "code",
   "execution_count": 19,
   "metadata": {
    "colab": {
     "autoexec": {
      "startup": false,
      "wait_interval": 0
     },
     "base_uri": "https://localhost:8080/",
     "height": 69
    },
    "colab_type": "code",
    "executionInfo": {
     "elapsed": 613,
     "status": "ok",
     "timestamp": 1528556504795,
     "user": {
      "displayName": "Sauradeep Chakraborty",
      "photoUrl": "//lh6.googleusercontent.com/-QvGcv_ohGQE/AAAAAAAAAAI/AAAAAAAADh8/JnoW4qEexCc/s50-c-k-no/photo.jpg",
      "userId": "104205094747188221458"
     },
     "user_tz": -480
    },
    "id": "UrRqxUQlXmXf",
    "outputId": "6abcc617-8f41-46c3-86f7-f28ef0c9049a"
   },
   "outputs": [
    {
     "name": "stdout",
     "output_type": "stream",
     "text": [
      "(400001, 296518)\n"
     ]
    }
   ],
   "source": [
    "print(X.shape)\n",
    "\n",
    "x_train, x_test, y_train, y_test = train_test_split(X, Y, test_size=0.3, random_state=101)"
   ]
  },
  {
   "cell_type": "markdown",
   "metadata": {},
   "source": [
    "## Naive Bayes"
   ]
  },
  {
   "cell_type": "code",
   "execution_count": 83,
   "metadata": {
    "colab": {
     "autoexec": {
      "startup": false,
      "wait_interval": 0
     },
     "base_uri": "https://localhost:8080/",
     "height": 503
    },
    "colab_type": "code",
    "executionInfo": {
     "elapsed": 1284,
     "status": "ok",
     "timestamp": 1528528073553,
     "user": {
      "displayName": "Sauradeep Chakraborty",
      "photoUrl": "//lh6.googleusercontent.com/-QvGcv_ohGQE/AAAAAAAAAAI/AAAAAAAADh8/JnoW4qEexCc/s50-c-k-no/photo.jpg",
      "userId": "104205094747188221458"
     },
     "user_tz": -480
    },
    "id": "2i_VKEzbX0c1",
    "outputId": "8779e112-e317-41f4-f82a-fc0e2c57f057"
   },
   "outputs": [
    {
     "data": {
      "text/plain": [
       "MultinomialNB(alpha=1.0, class_prior=None, fit_prior=True)"
      ]
     },
     "execution_count": 83,
     "metadata": {},
     "output_type": "execute_result"
    }
   ],
   "source": [
    "from sklearn.naive_bayes import MultinomialNB\n",
    "\n",
    "nb = MultinomialNB()\n",
    "nb.fit(x_train, y_train)"
   ]
  },
  {
   "cell_type": "code",
   "execution_count": 106,
   "metadata": {
    "colab": {
     "autoexec": {
      "startup": false,
      "wait_interval": 0
     },
     "base_uri": "https://localhost:8080/",
     "height": 1367
    },
    "colab_type": "code",
    "collapsed": true,
    "executionInfo": {
     "elapsed": 6539,
     "status": "error",
     "timestamp": 1528556849112,
     "user": {
      "displayName": "Sauradeep Chakraborty",
      "photoUrl": "//lh6.googleusercontent.com/-QvGcv_ohGQE/AAAAAAAAAAI/AAAAAAAADh8/JnoW4qEexCc/s50-c-k-no/photo.jpg",
      "userId": "104205094747188221458"
     },
     "user_tz": -480
    },
    "id": "dDYKbyEOX23I",
    "outputId": "6334d409-df24-44b3-a352-917ef770f220"
   },
   "outputs": [],
   "source": [
    "prediction = nb.predict(x_test)"
   ]
  },
  {
   "cell_type": "code",
   "execution_count": 107,
   "metadata": {
    "colab": {
     "autoexec": {
      "startup": false,
      "wait_interval": 0
     },
     "base_uri": "https://localhost:8080/",
     "height": 69
    },
    "colab_type": "code",
    "executionInfo": {
     "elapsed": 155706,
     "status": "ok",
     "timestamp": 1528534609267,
     "user": {
      "displayName": "Sauradeep Chakraborty",
      "photoUrl": "//lh6.googleusercontent.com/-QvGcv_ohGQE/AAAAAAAAAAI/AAAAAAAADh8/JnoW4qEexCc/s50-c-k-no/photo.jpg",
      "userId": "104205094747188221458"
     },
     "user_tz": -480
    },
    "id": "9RAYLnkpX53p",
    "outputId": "9de00fe2-df56-4453-e774-26374e28870b"
   },
   "outputs": [
    {
     "name": "stdout",
     "output_type": "stream",
     "text": [
      "[[19332  4192   691]\n",
      " [ 2544 14442  3427]\n",
      " [ 3478  6015 65880]]\n",
      "\n",
      "             precision    recall  f1-score   support\n",
      "\n",
      "          0       0.76      0.80      0.78     24215\n",
      "          1       0.59      0.71      0.64     20413\n",
      "          2       0.94      0.87      0.91     75373\n",
      "\n",
      "avg / total       0.84      0.83      0.84    120001\n",
      "\n",
      "0.830443079641003\n"
     ]
    }
   ],
   "source": [
    "from sklearn.metrics import confusion_matrix, classification_report, accuracy_score\n",
    "print(confusion_matrix(y_test, prediction))\n",
    "print()\n",
    "print(classification_report(y_test, prediction))\n",
    "print(accuracy_score(y_test, prediction))"
   ]
  },
  {
   "cell_type": "code",
   "execution_count": 113,
   "metadata": {},
   "outputs": [
    {
     "data": {
      "text/plain": [
       "1"
      ]
     },
     "execution_count": 113,
     "metadata": {},
     "output_type": "execute_result"
    }
   ],
   "source": [
    "positive_review = [\"ok\", \"hit\", \"miss\", \"decent\"]\n",
    "transformed_review  = vectorizer.transform(positive_review)\n",
    "\n",
    "nb.predict(transformed_review)[0]"
   ]
  },
  {
   "cell_type": "markdown",
   "metadata": {},
   "source": [
    "## Logistic Regression"
   ]
  },
  {
   "cell_type": "code",
   "execution_count": 99,
   "metadata": {
    "collapsed": true
   },
   "outputs": [],
   "source": [
    "lr = LogisticRegression()"
   ]
  },
  {
   "cell_type": "code",
   "execution_count": 100,
   "metadata": {},
   "outputs": [
    {
     "data": {
      "text/plain": [
       "LogisticRegression(C=1.0, class_weight=None, dual=False, fit_intercept=True,\n",
       "          intercept_scaling=1, max_iter=100, multi_class='ovr', n_jobs=1,\n",
       "          penalty='l2', random_state=None, solver='liblinear', tol=0.0001,\n",
       "          verbose=0, warm_start=False)"
      ]
     },
     "execution_count": 100,
     "metadata": {},
     "output_type": "execute_result"
    }
   ],
   "source": [
    "lr.fit(x_train, y_train)"
   ]
  },
  {
   "cell_type": "code",
   "execution_count": null,
   "metadata": {},
   "outputs": [],
   "source": []
  },
  {
   "cell_type": "markdown",
   "metadata": {},
   "source": [
    "## SGD Classifier"
   ]
  },
  {
   "cell_type": "code",
   "execution_count": 21,
   "metadata": {},
   "outputs": [
    {
     "name": "stderr",
     "output_type": "stream",
     "text": [
      "C:\\Users\\ishaanverma\\Anaconda3\\lib\\site-packages\\sklearn\\linear_model\\stochastic_gradient.py:128: FutureWarning: max_iter and tol parameters have been added in <class 'sklearn.linear_model.stochastic_gradient.SGDClassifier'> in 0.19. If both are left unset, they default to max_iter=5 and tol=None. If tol is not None, max_iter defaults to max_iter=1000. From 0.21, default max_iter will be 1000, and default tol will be 1e-3.\n",
      "  \"and default tol will be 1e-3.\" % type(self), FutureWarning)\n"
     ]
    },
    {
     "data": {
      "text/plain": [
       "SGDClassifier(alpha=0.0001, average=False, class_weight=None, epsilon=0.1,\n",
       "       eta0=0.0, fit_intercept=True, l1_ratio=0.15,\n",
       "       learning_rate='optimal', loss='hinge', max_iter=None, n_iter=None,\n",
       "       n_jobs=1, penalty='l2', power_t=0.5, random_state=None,\n",
       "       shuffle=True, tol=None, verbose=0, warm_start=False)"
      ]
     },
     "execution_count": 21,
     "metadata": {},
     "output_type": "execute_result"
    }
   ],
   "source": [
    "sgd = SGDClassifier()\n",
    "x_train.shape\n",
    "y_train.shape\n",
    "sgd.fit(x_train, y_train)"
   ]
  },
  {
   "cell_type": "code",
   "execution_count": 26,
   "metadata": {},
   "outputs": [
    {
     "name": "stdout",
     "output_type": "stream",
     "text": [
      "0.8870842742977142\n"
     ]
    }
   ],
   "source": [
    "predictions = sgd.predict(x_test)\n",
    "print(accuracy_score(y_test, predictions))"
   ]
  },
  {
   "cell_type": "code",
   "execution_count": null,
   "metadata": {
    "collapsed": true
   },
   "outputs": [],
   "source": []
  }
 ],
 "metadata": {
  "accelerator": "GPU",
  "colab": {
   "default_view": {},
   "name": "Sentiment analysis LSTM.ipynb",
   "provenance": [],
   "version": "0.3.2",
   "views": {}
  },
  "kernelspec": {
   "display_name": "Python 3",
   "language": "python",
   "name": "python3"
  },
  "language_info": {
   "codemirror_mode": {
    "name": "ipython",
    "version": 3
   },
   "file_extension": ".py",
   "mimetype": "text/x-python",
   "name": "python",
   "nbconvert_exporter": "python",
   "pygments_lexer": "ipython3",
   "version": "3.6.1"
  }
 },
 "nbformat": 4,
 "nbformat_minor": 1
}
